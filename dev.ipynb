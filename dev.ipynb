{
 "cells": [
  {
   "cell_type": "code",
   "execution_count": null,
   "metadata": {},
   "outputs": [],
   "source": [
    "import os\n",
    "import pdf2image as p2i\n",
    "import numpy as np\n",
    "import pandas as pd\n",
    "# import pyzbar.pyzbar as zbar\n",
    "from PIL import Image\n",
    "import pickle"
   ]
  },
  {
   "cell_type": "code",
   "execution_count": null,
   "metadata": {},
   "outputs": [],
   "source": [
    "import os\n",
    "import numpy as np\n",
    "import pandas as pd\n",
    "import matplotlib.pyplot as plt\n",
    "import pdf2image as p2i"
   ]
  },
  {
   "cell_type": "markdown",
   "metadata": {},
   "source": [
    "### Write code of extractor"
   ]
  },
  {
   "cell_type": "markdown",
   "metadata": {},
   "source": [
    "#### Code from Chan-Yu"
   ]
  },
  {
   "cell_type": "code",
   "execution_count": null,
   "metadata": {},
   "outputs": [],
   "source": [
    "### from Chan-Yu\n",
    "\n",
    "def extractor(path, output_folder = 'default', filename = 'default'):\n",
    "    \n",
    "    \"\"\"\n",
    "    Input:\n",
    "        path: path of pdf file\n",
    "        output_folder: name of output folder, default name is same as pdf file\n",
    "        filename: name of jpg file, default name is {output_folder}_{}.jpg\n",
    "    Output:\n",
    "        None\n",
    "    \"\"\"\n",
    "    \n",
    "    # 建立資料夾，預設為 pdf 檔名\n",
    "    if output_folder == 'default':\n",
    "        tmp = path.split('/')\n",
    "        tmp = tmp[-1].split('.')\n",
    "        output_folder = tmp[0]\n",
    "    try:\n",
    "        os.mkdir(output_folder)\n",
    "    except:\n",
    "        print(\"Error: There exists a folder called \\'{}\\'.\".format(output_folder))\n",
    "        return\n",
    "    \n",
    "    # 定義每一張檔名，預設為\"資料夾名稱_{}.jpg\"\n",
    "    if filename == 'default':\n",
    "        filename = output_folder + '_{}.jpg'\n",
    "    else:\n",
    "        filename = filename + '_{}.jpg'\n",
    "    output_path = output_folder + '/' + filename\n",
    "    \n",
    "    # 將 pdf 逐頁拆分並轉換成 jpg 並儲存\n",
    "    imgs = p2i.convert_from_path(path, fmt = 'jpg', grayscale = True)\n",
    "    for i, im in enumerate(imgs):\n",
    "        im.save(output_path.format(i+1))\n",
    "    \n",
    "    n_img = len(imgs)\n",
    "    checkcode = np.zeros([n_img,120,120])\n",
    "    qrcode = np.zeros([n_img,400,400])\n",
    "    for i, im in enumerate(imgs):\n",
    "        \n",
    "        # 擷取 checkcode 並記錄至 `checkcode`\n",
    "        img = np.asarray(im)\n",
    "        rect = img[img.shape[0]-400:,img.shape[1]-400:]    ### 選取最右下角的 400x400\n",
    "        rect = rect.mean(axis = -1)\n",
    "        edge_check = np.where(rect < 100)\n",
    "        r = edge_check[0].max()\n",
    "        c = edge_check[1].max()\n",
    "        rect = rect[r-130:r-10, c-130:c-10]    ### -10 是從邊界往內縮，從右下角選取 120x120（checkcode 大小）\n",
    "        checkcode[i,:,:] = rect\n",
    "        \n",
    "        # 擷取 QR code 並記錄至 `qrcode`\n",
    "        qr = img[img.shape[0]-400:, :400]    ### 選取最左下角的 400x400\n",
    "        qr = qr.mean(axis = -1)\n",
    "        qrcode[i,:,:] = sharpen_vec(qr) ### 把黑色變得更黑\n",
    "    \n",
    "    # 將 `checkcode` 儲存，檔名預設為 checkcode_{output_folder}.pkl\n",
    "    cc_name = 'checkcode_' + output_folder + '.pkl'\n",
    "    with open(cc_name,'wb') as handle:\n",
    "        pickle.dump(checkcode, handle, protocol = pickle.HIGHEST_PROTOCOL)\n",
    "    \n",
    "    # 將 `qrcode` 儲存，檔名預設為 qrcode{output_folder}.pkl\n",
    "    qc_name = 'qrcode_' + output_folder + '.pkl'\n",
    "    with open(qc_name,'wb') as handle:\n",
    "        pickle.dump(qrcode, handle, protocol = pickle.HIGHEST_PROTOCOL)\n",
    "\n",
    "    return"
   ]
  },
  {
   "cell_type": "markdown",
   "metadata": {},
   "source": [
    "### Write code of annotator"
   ]
  },
  {
   "cell_type": "markdown",
   "metadata": {},
   "source": [
    "### Write code of ocr"
   ]
  }
 ],
 "metadata": {
  "kernelspec": {
   "display_name": "Python 3 (ipykernel)",
   "language": "python",
   "name": "python3"
  },
  "language_info": {
   "codemirror_mode": {
    "name": "ipython",
    "version": 3
   },
   "file_extension": ".py",
   "mimetype": "text/x-python",
   "name": "python",
   "nbconvert_exporter": "python",
   "pygments_lexer": "ipython3",
   "version": "3.10.6"
  }
 },
 "nbformat": 4,
 "nbformat_minor": 4
}
