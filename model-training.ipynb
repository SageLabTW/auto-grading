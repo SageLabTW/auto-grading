{
 "cells": [
  {
   "cell_type": "code",
   "execution_count": null,
   "id": "0614de77",
   "metadata": {},
   "outputs": [],
   "source": [
    "### load current dataset\n",
    "import os\n",
    "import urllib\n",
    "import numpy as np\n",
    "\n",
    "base = r\"https://github.com/SageLabTW/auto-grading/raw/master/nsysu-digits/\"\n",
    "for c in ['X', 'y']:\n",
    "    filename = \"nsysu-digits-%s.csv\"%c\n",
    "    if filename not in os.listdir('.'):\n",
    "        print(filename, 'not found --- will download')\n",
    "        urllib.request.urlretrieve(base + c + \".csv\", filename)\n",
    "\n",
    "Xsys = np.genfromtxt('nsysu-digits-X.csv', dtype=int, delimiter=',') ### flattened already\n",
    "ysys = np.genfromtxt('nsysu-digits-y.csv', dtype=int, delimiter=',')"
   ]
  },
  {
   "cell_type": "code",
   "execution_count": null,
   "id": "19be9867",
   "metadata": {},
   "outputs": [],
   "source": [
    "import ocr"
   ]
  },
  {
   "cell_type": "code",
   "execution_count": null,
   "id": "5b610399",
   "metadata": {},
   "outputs": [],
   "source": [
    "from importlib import reload\n",
    "reload(ocr)"
   ]
  },
  {
   "cell_type": "code",
   "execution_count": null,
   "id": "000a363a",
   "metadata": {},
   "outputs": [],
   "source": [
    "### normalize all images\n",
    "Xnorm = Xsys.copy()\n",
    "ocr.normalize(Xnorm)\n",
    "ocr.show(Xsys, size=(28,28))\n",
    "ocr.show(Xnorm, size=(28,28))"
   ]
  },
  {
   "cell_type": "markdown",
   "id": "f910c6a7",
   "metadata": {},
   "source": [
    "### Testing models"
   ]
  },
  {
   "cell_type": "code",
   "execution_count": null,
   "id": "1b016a4e",
   "metadata": {},
   "outputs": [],
   "source": [
    "from sklearn.model_selection import cross_val_score"
   ]
  },
  {
   "cell_type": "code",
   "execution_count": null,
   "id": "7e97bd79",
   "metadata": {},
   "outputs": [],
   "source": [
    "from sklearn.svm import SVC\n",
    "model = SVC()\n",
    "cross_val_score(model, Xnorm, ysys, cv=2)"
   ]
  },
  {
   "cell_type": "code",
   "execution_count": null,
   "id": "9e7efbfb",
   "metadata": {},
   "outputs": [],
   "source": [
    "from sklearn.tree import DecisionTreeClassifier\n",
    "model = DecisionTreeClassifier()\n",
    "cross_val_score(model, Xnorm, ysys, cv=5)"
   ]
  },
  {
   "cell_type": "code",
   "execution_count": null,
   "id": "e0eab623",
   "metadata": {},
   "outputs": [],
   "source": [
    "from sklearn.ensemble import RandomForestClassifier\n",
    "model = RandomForestClassifier()\n",
    "cross_val_score(model, Xnorm, ysys, cv=2)"
   ]
  },
  {
   "cell_type": "code",
   "execution_count": null,
   "id": "b50780ba",
   "metadata": {},
   "outputs": [],
   "source": [
    "from sklearn.neural_network import MLPClassifier\n",
    "model = MLPClassifier(hidden_layer_sizes=(30, ), max_iter=800)\n",
    "cross_val_score(model, Xnorm, ysys, cv=3)"
   ]
  },
  {
   "cell_type": "markdown",
   "id": "b8c1e922",
   "metadata": {},
   "source": [
    "### Train model and export"
   ]
  },
  {
   "cell_type": "code",
   "execution_count": null,
   "id": "c940974b",
   "metadata": {},
   "outputs": [],
   "source": [
    "from sklearn.svm import SVC\n",
    "model = SVC()\n",
    "model.fit(Xnorm, ysys)"
   ]
  },
  {
   "cell_type": "code",
   "execution_count": null,
   "id": "8114e1a7",
   "metadata": {},
   "outputs": [],
   "source": [
    "import joblib\n",
    "\n",
    "joblib.dump(model, \"svc-1639.joblib\")"
   ]
  },
  {
   "cell_type": "code",
   "execution_count": null,
   "id": "19596116",
   "metadata": {},
   "outputs": [],
   "source": [
    "import joblib\n",
    "\n",
    "loaded_model = joblib.load(\"svc-1639.joblib\")"
   ]
  },
  {
   "cell_type": "code",
   "execution_count": null,
   "id": "d4892817",
   "metadata": {},
   "outputs": [],
   "source": [
    "from sklearn.metrics import accuracy_score\n",
    "\n",
    "accuracy_score(loaded_model.predict(Xnorm), ysys)"
   ]
  },
  {
   "cell_type": "code",
   "execution_count": null,
   "id": "a26592cb",
   "metadata": {},
   "outputs": [],
   "source": []
  }
 ],
 "metadata": {
  "kernelspec": {
   "display_name": "Python 3 (ipykernel)",
   "language": "python",
   "name": "python3"
  },
  "language_info": {
   "codemirror_mode": {
    "name": "ipython",
    "version": 3
   },
   "file_extension": ".py",
   "mimetype": "text/x-python",
   "name": "python",
   "nbconvert_exporter": "python",
   "pygments_lexer": "ipython3",
   "version": "3.10.6"
  }
 },
 "nbformat": 4,
 "nbformat_minor": 5
}
