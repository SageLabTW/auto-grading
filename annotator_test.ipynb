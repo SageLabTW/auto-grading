{
 "cells": [
  {
   "cell_type": "code",
   "execution_count": 1,
   "metadata": {},
   "outputs": [],
   "source": [
    "import pdf2image as p2i\n",
    "import numpy as np\n",
    "from PIL import Image, ImageDraw, ImageFont\n",
    "import matplotlib.pyplot as plt"
   ]
  },
  {
   "cell_type": "code",
   "execution_count": 2,
   "metadata": {},
   "outputs": [],
   "source": [
    "path = 'pdfs/1081_1.pdf'\n",
    "imgs = p2i.convert_from_path(path, grayscale=True, fmt = 'png')"
   ]
  },
  {
   "cell_type": "code",
   "execution_count": 3,
   "metadata": {},
   "outputs": [],
   "source": [
    "img = imgs[0]\n",
    "font = ImageFont.truetype('font_style/Montserrat-Regular.ttf', size = 50)\n",
    "draw = ImageDraw.Draw(img)\n",
    "num = 9\n",
    "ans = 9\n",
    "if num == ans:\n",
    "    point = 5\n",
    "else:\n",
    "    point = 0\n",
    "\n",
    "draw.text((1300,2200), \"digits = {}\".format(num), (255,0,0), font=font)\n",
    "draw.text((100,2200), \"answer = {}\".format(ans), (255,0,0), font=font)\n",
    "draw.text((1300,100), \"point = {}\".format(point), (255,0,0), font=font)\n",
    "img.save('annotator_test.png')\n"
   ]
  },
  {
   "cell_type": "code",
   "execution_count": null,
   "metadata": {},
   "outputs": [],
   "source": []
  }
 ],
 "metadata": {
  "kernelspec": {
   "display_name": "Python 3",
   "language": "python",
   "name": "python3"
  },
  "language_info": {
   "codemirror_mode": {
    "name": "ipython",
    "version": 3
   },
   "file_extension": ".py",
   "mimetype": "text/x-python",
   "name": "python",
   "nbconvert_exporter": "python",
   "pygments_lexer": "ipython3",
   "version": "3.7.6"
  }
 },
 "nbformat": 4,
 "nbformat_minor": 4
}
