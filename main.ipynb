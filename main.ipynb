{
 "cells": [
  {
   "cell_type": "code",
   "execution_count": null,
   "metadata": {},
   "outputs": [],
   "source": [
    "from importlib import reload\n",
    "reload(ex)\n",
    "reload(an)\n",
    "reload(ocr)\n",
    "reload(plt)"
   ]
  },
  {
   "cell_type": "markdown",
   "metadata": {},
   "source": [
    "### import library"
   ]
  },
  {
   "cell_type": "code",
   "execution_count": null,
   "metadata": {},
   "outputs": [],
   "source": [
    "import os\n",
    "import extractor as ex\n",
    "import annotator as an\n",
    "import ocr\n",
    "import pandas as pd\n",
    "import matplotlib.pyplot as plt"
   ]
  },
  {
   "cell_type": "code",
   "execution_count": null,
   "metadata": {},
   "outputs": [],
   "source": [
    "pd.set_option('display.max_rows', None)"
   ]
  },
  {
   "cell_type": "code",
   "execution_count": null,
   "metadata": {},
   "outputs": [],
   "source": [
    "### class dependent\n",
    "email_path = 'emails/2023FMath104A-email.csv'\n",
    "\n",
    "### quiz dependent\n",
    "quiz_name = '1112_1' ### 登記成績用\n",
    "key_name = \"1112_1_key.csv\" ### 使用的答案\n",
    "\n",
    "### file dependent\n",
    "proj_name = \"1112_1\" ### 檔名去掉 .pdf\n",
    "# full_path = '/home/jephian/Downloads/1102_2m_4_full.csv'\n",
    "score_list = [email_path, quiz_name] #+ [quiz_name + 'm_%s'%i for i in range(1,2)]"
   ]
  },
  {
   "cell_type": "markdown",
   "metadata": {},
   "source": [
    "#### 1. Extract pdf file to get checkcode, qrcode and whole paper for grading by extractor"
   ]
  },
  {
   "cell_type": "code",
   "execution_count": null,
   "metadata": {},
   "outputs": [],
   "source": [
    "ex.extract(path=os.path.join('pdfs','%s.pdf'%proj_name), \n",
    "           mode='grade', \n",
    "           key_path=os.path.join('keys', key_name), \n",
    "           box='auto', ### 'auto' or (left, top, right, bottom)\n",
    "          )\n",
    "raw = ex.raw_data(proj_name)\n",
    "fig = raw.examine(0,min(25,raw.num))\n",
    "print(raw.num)"
   ]
  },
  {
   "cell_type": "code",
   "execution_count": null,
   "metadata": {},
   "outputs": [],
   "source": [
    "raw.examine()"
   ]
  },
  {
   "cell_type": "markdown",
   "metadata": {},
   "source": [
    "#### 2. Use OCR system to classify the digits in checkcode and check the results"
   ]
  },
  {
   "cell_type": "code",
   "execution_count": null,
   "metadata": {},
   "outputs": [],
   "source": [
    "ocr.predict(raw, \n",
    "            mdl_path='svc-1639.joblib')"
   ]
  },
  {
   "cell_type": "code",
   "execution_count": null,
   "metadata": {},
   "outputs": [],
   "source": [
    "raw.labeler(patch=os.path.join(proj_name, '%s_pred.csv'%proj_name), remove=False)"
   ]
  },
  {
   "cell_type": "markdown",
   "metadata": {},
   "source": [
    "Manually mark invalid answers with `d` .  \n",
    "Record the accuracy if you wish."
   ]
  },
  {
   "cell_type": "code",
   "execution_count": null,
   "metadata": {},
   "outputs": [],
   "source": [
    "### move the patch to patches folder\n",
    "os.rename(os.path.join(proj_name, '%s_patch.csv'%proj_name), \n",
    "          os.path.join('patches', '%s_patch.csv'%proj_name))"
   ]
  },
  {
   "cell_type": "markdown",
   "metadata": {},
   "source": [
    "#### 3. Import edit full.csv"
   ]
  },
  {
   "cell_type": "code",
   "execution_count": null,
   "metadata": {},
   "outputs": [],
   "source": [
    "raw = ex.raw_data(proj_name)\n",
    "print(raw.num)\n",
    "paper = an.raw_paper(proj_name)\n",
    "print(paper.num)"
   ]
  },
  {
   "cell_type": "code",
   "execution_count": null,
   "metadata": {},
   "outputs": [],
   "source": [
    "paper.full.head()"
   ]
  },
  {
   "cell_type": "markdown",
   "metadata": {},
   "source": [
    "Edit the id column manually.  \n",
    "Check qr code if necessary."
   ]
  },
  {
   "cell_type": "code",
   "execution_count": null,
   "metadata": {},
   "outputs": [],
   "source": [
    "### reload\n",
    "raw = ex.raw_data(proj_name)\n",
    "print(raw.num)\n",
    "paper = an.raw_paper(proj_name)\n",
    "print(paper.num)\n",
    "\n",
    "### get cor_ans\n",
    "paper.get_cor_ans(key_path=os.path.join('keys', key_name))"
   ]
  },
  {
   "cell_type": "code",
   "execution_count": null,
   "metadata": {},
   "outputs": [],
   "source": [
    "paper.full.head(None)"
   ]
  },
  {
   "cell_type": "code",
   "execution_count": null,
   "metadata": {},
   "outputs": [],
   "source": [
    "### get label from raw\n",
    "paper.get_label()\n",
    "\n",
    "### get points\n",
    "paper.grade()\n",
    "\n",
    "### get email addresses\n",
    "paper.get_email(email_path)"
   ]
  },
  {
   "cell_type": "markdown",
   "metadata": {},
   "source": [
    "#### 4. Auto-grading on papers by annotator"
   ]
  },
  {
   "cell_type": "code",
   "execution_count": null,
   "metadata": {
    "scrolled": true
   },
   "outputs": [],
   "source": [
    "raw_paper = an.raw_paper(proj_name)\n",
    "raw_paper.annotate()"
   ]
  },
  {
   "cell_type": "markdown",
   "metadata": {},
   "source": [
    "#### 5. Send emails and record"
   ]
  },
  {
   "cell_type": "code",
   "execution_count": null,
   "metadata": {},
   "outputs": [],
   "source": [
    "paper = an.raw_paper(proj_name)\n",
    "print(paper.num)"
   ]
  },
  {
   "cell_type": "code",
   "execution_count": null,
   "metadata": {},
   "outputs": [],
   "source": [
    "### do dry, test, and then send\n",
    "paper.group_email(mode='send') "
   ]
  },
  {
   "cell_type": "markdown",
   "metadata": {},
   "source": [
    "Stage keys, patches on GitHub.  \n",
    "Put emails, pdfs, full.csv on Google Drive.  "
   ]
  },
  {
   "cell_type": "markdown",
   "metadata": {},
   "source": [
    "Collect all records"
   ]
  },
  {
   "cell_type": "code",
   "execution_count": null,
   "metadata": {},
   "outputs": [],
   "source": [
    "record = an.get_record(*score_list)"
   ]
  },
  {
   "cell_type": "code",
   "execution_count": null,
   "metadata": {},
   "outputs": [],
   "source": [
    "print(record.shape)\n",
    "record.head()"
   ]
  },
  {
   "cell_type": "code",
   "execution_count": null,
   "metadata": {},
   "outputs": [],
   "source": [
    "### see who miss the mandatory quiz\n",
    "record.loc[record.filename == 'miss']"
   ]
  },
  {
   "cell_type": "markdown",
   "metadata": {},
   "source": [
    "Change `miss` to `ignore` for students with particular reason."
   ]
  },
  {
   "cell_type": "code",
   "execution_count": null,
   "metadata": {},
   "outputs": [],
   "source": [
    "### add ignore\n",
    "ignore_list = [25]\n",
    "for ind in ignore_list:\n",
    "    record.loc[ind, 'filename'] = 'ignore'"
   ]
  },
  {
   "cell_type": "code",
   "execution_count": null,
   "metadata": {},
   "outputs": [],
   "source": [
    "### save file\n",
    "record.to_csv(score_list[1]+'_record.csv')"
   ]
  },
  {
   "cell_type": "code",
   "execution_count": null,
   "metadata": {},
   "outputs": [],
   "source": [
    "scores = an.get_scores(record, quiz_name)"
   ]
  },
  {
   "cell_type": "code",
   "execution_count": null,
   "metadata": {},
   "outputs": [],
   "source": [
    "print(scores.shape)\n",
    "scores.head(None)"
   ]
  },
  {
   "cell_type": "markdown",
   "metadata": {},
   "source": [
    "Update scores on Google Drive.  \n",
    "Announce on Cyber University.  \n",
    "Put `_record` and `_scores` in the course folder `quiz-records`."
   ]
  },
  {
   "cell_type": "code",
   "execution_count": null,
   "metadata": {},
   "outputs": [],
   "source": []
  },
  {
   "cell_type": "code",
   "execution_count": null,
   "metadata": {},
   "outputs": [],
   "source": []
  },
  {
   "cell_type": "code",
   "execution_count": null,
   "metadata": {},
   "outputs": [],
   "source": []
  }
 ],
 "metadata": {
  "kernelspec": {
   "display_name": "Python 3 (ipykernel)",
   "language": "python",
   "name": "python3"
  },
  "language_info": {
   "codemirror_mode": {
    "name": "ipython",
    "version": 3
   },
   "file_extension": ".py",
   "mimetype": "text/x-python",
   "name": "python",
   "nbconvert_exporter": "python",
   "pygments_lexer": "ipython3",
   "version": "3.10.9"
  }
 },
 "nbformat": 4,
 "nbformat_minor": 4
}
