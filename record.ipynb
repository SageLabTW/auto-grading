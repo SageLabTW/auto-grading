{
 "cells": [
  {
   "cell_type": "code",
   "execution_count": null,
   "metadata": {},
   "outputs": [],
   "source": [
    "from importlib import reload\n",
    "reload(ex)\n",
    "reload(an)\n",
    "reload(plt)"
   ]
  },
  {
   "cell_type": "markdown",
   "metadata": {},
   "source": [
    "# 輸入學號及 CHECKCODE"
   ]
  },
  {
   "cell_type": "markdown",
   "metadata": {},
   "source": [
    "## 檔案處理\n",
    "1. 把考卷依學號排好\n",
    "2. 用圖書館影印機掃描檔案\n",
    "3. 命名為 `1091_i.pdf`, `i = 1,2,3` 為小考次數\n",
    "4. 或 `1091_im_j.pdf`, `i = 1,2,3` 為小考次數，`j` 為補考次數。\n",
    "5. 把 `pdf` 放入 `pdfs/`；把 `Quizi_ans.csv` 放到 `keys`。"
   ]
  },
  {
   "cell_type": "markdown",
   "metadata": {},
   "source": [
    "## 讀入套件"
   ]
  },
  {
   "cell_type": "code",
   "execution_count": null,
   "metadata": {},
   "outputs": [],
   "source": [
    "%matplotlib inline\n",
    "\n",
    "import os\n",
    "import extractor as ex\n",
    "import annotator as an\n",
    "import pandas as pd\n",
    "import matplotlib.pyplot as plt"
   ]
  },
  {
   "cell_type": "markdown",
   "metadata": {},
   "source": [
    "## 測試邊框\n",
    "See if the location of the red boxes are correct."
   ]
  },
  {
   "cell_type": "code",
   "execution_count": null,
   "metadata": {},
   "outputs": [],
   "source": [
    "proj_name = \"1092_2m_4\" ### 檔名去掉 .pdf\n",
    "key_name = \"1092_2_key.csv\" ### 使用的答案"
   ]
  },
  {
   "cell_type": "code",
   "execution_count": null,
   "metadata": {},
   "outputs": [],
   "source": [
    "### 看紅框是否正確\n",
    "### default value for (left, top)\n",
    "left,top = (1417.78,2102.78)\n",
    "width = 157.48\n",
    "\n",
    "### adjust the box location, or use 'auto'\n",
    "left += -15\n",
    "top += 20\n",
    "width += -20\n",
    "box_setting = 'auto'\n",
    "# box_setting = (left, top, right, bottom)\n",
    "\n",
    "### set right and bottom\n",
    "right,bottom = (left + width, top + width)\n",
    "\n",
    "ex.extract(os.path.join('pdfs','%s.pdf'%proj_name), \n",
    "           mode='test',\n",
    "           pages=(1,3),\n",
    "#            pages=None,\n",
    "           box=box_setting, ### 'auto' or (left, top, right, bottom)\n",
    "           key_path=os.path.join('keys', key_name)\n",
    "          )\n",
    "raw = ex.raw_data(proj_name)\n",
    "fig = raw.examine()"
   ]
  },
  {
   "cell_type": "markdown",
   "metadata": {},
   "source": [
    "## Label"
   ]
  },
  {
   "cell_type": "code",
   "execution_count": null,
   "metadata": {},
   "outputs": [],
   "source": [
    "ex.extract(os.path.join('pdfs','%s.pdf'%proj_name), \n",
    "           mode='grade',\n",
    "           pages=None, ### 若要全讀取的話改成 pages=None \n",
    "           box=box_setting, ### 'auto' or (left, top, right, bottom)\n",
    "           key_path=os.path.join('keys', key_name)\n",
    "          )\n",
    "### take long"
   ]
  },
  {
   "cell_type": "code",
   "execution_count": null,
   "metadata": {},
   "outputs": [],
   "source": [
    "raw = ex.raw_data(proj_name)\n",
    "print(raw.num)"
   ]
  },
  {
   "cell_type": "code",
   "execution_count": null,
   "metadata": {
    "scrolled": false
   },
   "outputs": [],
   "source": [
    "raw.labeler()"
   ]
  },
  {
   "cell_type": "markdown",
   "metadata": {},
   "source": [
    "1. 檢查 `proj_name` 資料夾裡的 `proj_name.csv` 是否正確。\n",
    "2. 打開 `proj_name` 裡的 `proj_name_full.csv` 將學號填入。\n",
    "3. 將 `proj_name.pdf`, `proj_name_patch.csv`， `proj_name_full.csv` 寄給我。"
   ]
  },
  {
   "cell_type": "code",
   "execution_count": null,
   "metadata": {},
   "outputs": [],
   "source": []
  },
  {
   "cell_type": "markdown",
   "metadata": {},
   "source": [
    "# 忽略以下步驟"
   ]
  },
  {
   "cell_type": "markdown",
   "metadata": {},
   "source": [
    "# 成績處理"
   ]
  },
  {
   "cell_type": "markdown",
   "metadata": {},
   "source": [
    "1. 將 `pdf` 放到 `pdfs/` 中；將 patch 檔放到 `patches/` 中。"
   ]
  },
  {
   "cell_type": "code",
   "execution_count": null,
   "metadata": {},
   "outputs": [],
   "source": [
    "pd.set_option('max_rows', None)"
   ]
  },
  {
   "cell_type": "code",
   "execution_count": null,
   "metadata": {},
   "outputs": [],
   "source": [
    "### class dependent\n",
    "email_path = 'emails/2021FMath103-email.csv'\n",
    "\n",
    "### quiz dependent\n",
    "quiz_name = '1101_1' ### 登記成績用\n",
    "key_name = \"1101_1_key.csv\" ### 使用的答案\n",
    "\n",
    "### file dependent\n",
    "proj_name = \"1101_1m_1\" ### 檔名去掉 .pdf\n",
    "full_path = '/home/jephian/Downloads/1101_1m_1_full.csv'\n",
    "score_list = [email_path, quiz_name] + [quiz_name + 'm_%s'%i for i in range(1,2)]"
   ]
  },
  {
   "cell_type": "code",
   "execution_count": null,
   "metadata": {},
   "outputs": [],
   "source": [
    "### 看紅框是否正確\n",
    "### default value for (left, top)\n",
    "left,top = (1417.78,2102.78)\n",
    "width = 157.48\n",
    "\n",
    "### adjust the box location, or use 'auto'\n",
    "left += -15\n",
    "top += 20\n",
    "width += -20\n",
    "box_setting = 'auto'\n",
    "# box_setting = (left, top, right, bottom)\n",
    "\n",
    "### set right and bottom\n",
    "right,bottom = (left + width, top + width)\n",
    "\n",
    "ex.extract(os.path.join('pdfs','%s.pdf'%proj_name), \n",
    "           mode='test',\n",
    "           pages=(1,3), \n",
    "           box=box_setting, ### 'auto' or (left, top, right, bottom)\n",
    "           key_path=os.path.join('keys', key_name)\n",
    "          )\n",
    "raw = ex.raw_data(proj_name)\n",
    "fig = raw.examine()"
   ]
  },
  {
   "cell_type": "code",
   "execution_count": null,
   "metadata": {},
   "outputs": [],
   "source": [
    "ex.extract(os.path.join('pdfs','%s.pdf'%proj_name), \n",
    "           mode='grade',\n",
    "           pages=None, ### 若要全讀取的話改成 pages=None \n",
    "           box=box_setting, ### 'auto' or (left, top, right, bottom)\n",
    "           key_path=os.path.join('keys', key_name)\n",
    "          )\n",
    "### take long"
   ]
  },
  {
   "cell_type": "code",
   "execution_count": null,
   "metadata": {},
   "outputs": [],
   "source": [
    "raw = ex.raw_data(proj_name)\n",
    "print(raw.num)"
   ]
  },
  {
   "cell_type": "markdown",
   "metadata": {},
   "source": [
    "### Load from patch"
   ]
  },
  {
   "cell_type": "code",
   "execution_count": null,
   "metadata": {},
   "outputs": [],
   "source": [
    "raw = ex.raw_data(proj_name)\n",
    "print(raw.num)"
   ]
  },
  {
   "cell_type": "code",
   "execution_count": null,
   "metadata": {
    "scrolled": false
   },
   "outputs": [],
   "source": [
    "raw.labeler(patch=os.path.join('patches', '%s_patch.csv'%proj_name), remove=False)"
   ]
  },
  {
   "cell_type": "markdown",
   "metadata": {},
   "source": [
    "## Import edit full.csv"
   ]
  },
  {
   "cell_type": "code",
   "execution_count": null,
   "metadata": {},
   "outputs": [],
   "source": [
    "raw = ex.raw_data(proj_name)\n",
    "print(raw.num)\n",
    "paper = an.raw_paper(proj_name)\n",
    "print(paper.num)"
   ]
  },
  {
   "cell_type": "code",
   "execution_count": null,
   "metadata": {
    "scrolled": true
   },
   "outputs": [],
   "source": [
    "paper.full.head()"
   ]
  },
  {
   "cell_type": "code",
   "execution_count": null,
   "metadata": {},
   "outputs": [],
   "source": [
    "### get id from manual labeling\n",
    "df = pd.read_csv(full_path)\n",
    "paper.full.id = df.id\n",
    "paper.update_full()"
   ]
  },
  {
   "cell_type": "markdown",
   "metadata": {},
   "source": [
    "如果 QR code 有讀取失敗，將 `_full.csv` 中的 qr 欄位手動填入。"
   ]
  },
  {
   "cell_type": "code",
   "execution_count": null,
   "metadata": {},
   "outputs": [],
   "source": [
    "### reload\n",
    "raw = ex.raw_data(proj_name)\n",
    "print(raw.num)\n",
    "paper = an.raw_paper(proj_name)\n",
    "print(paper.num)\n",
    "\n",
    "### get cor_ans\n",
    "paper.get_cor_ans(key_path=os.path.join('keys', key_name))"
   ]
  },
  {
   "cell_type": "code",
   "execution_count": null,
   "metadata": {
    "scrolled": false
   },
   "outputs": [],
   "source": [
    "# pd.set_option('display.max_rows', 100)\n",
    "paper.full.head(None)"
   ]
  },
  {
   "cell_type": "code",
   "execution_count": null,
   "metadata": {},
   "outputs": [],
   "source": [
    "### get label from raw\n",
    "paper.get_label()"
   ]
  },
  {
   "cell_type": "code",
   "execution_count": null,
   "metadata": {},
   "outputs": [],
   "source": [
    "### get points\n",
    "paper.grade()"
   ]
  },
  {
   "cell_type": "code",
   "execution_count": null,
   "metadata": {},
   "outputs": [],
   "source": [
    "### get email addresses\n",
    "paper.get_email(email_path)"
   ]
  },
  {
   "cell_type": "markdown",
   "metadata": {},
   "source": [
    "## Annotate the paper"
   ]
  },
  {
   "cell_type": "code",
   "execution_count": null,
   "metadata": {},
   "outputs": [],
   "source": [
    "paper = an.raw_paper(proj_name)\n",
    "print(paper.num)"
   ]
  },
  {
   "cell_type": "code",
   "execution_count": null,
   "metadata": {},
   "outputs": [],
   "source": [
    "paper.annotate()"
   ]
  },
  {
   "cell_type": "markdown",
   "metadata": {},
   "source": [
    "Check annotated papers"
   ]
  },
  {
   "cell_type": "markdown",
   "metadata": {},
   "source": [
    "## Email students"
   ]
  },
  {
   "cell_type": "code",
   "execution_count": null,
   "metadata": {},
   "outputs": [],
   "source": [
    "paper = an.raw_paper(proj_name)\n",
    "print(paper.num)"
   ]
  },
  {
   "cell_type": "code",
   "execution_count": null,
   "metadata": {
    "scrolled": false
   },
   "outputs": [],
   "source": [
    "### do dry, test, and then send\n",
    "paper.group_email(mode='send') "
   ]
  },
  {
   "cell_type": "markdown",
   "metadata": {},
   "source": [
    "Stage keys, patches on GitHub.  \n",
    "Put emails, pdfs, full.csv on Google Drive.  "
   ]
  },
  {
   "cell_type": "markdown",
   "metadata": {},
   "source": [
    "Collect all records"
   ]
  },
  {
   "cell_type": "code",
   "execution_count": null,
   "metadata": {},
   "outputs": [],
   "source": [
    "record = an.get_record(*score_list)"
   ]
  },
  {
   "cell_type": "code",
   "execution_count": null,
   "metadata": {
    "scrolled": true
   },
   "outputs": [],
   "source": [
    "print(record.shape)\n",
    "record.head()"
   ]
  },
  {
   "cell_type": "code",
   "execution_count": null,
   "metadata": {},
   "outputs": [],
   "source": [
    "### see who miss the mandatory quiz\n",
    "record.loc[record.filename == 'miss']"
   ]
  },
  {
   "cell_type": "markdown",
   "metadata": {},
   "source": [
    "Change `miss` to `ignore` for students with particular reason."
   ]
  },
  {
   "cell_type": "code",
   "execution_count": null,
   "metadata": {},
   "outputs": [],
   "source": [
    "### add ignore\n",
    "ignore_list = []\n",
    "for ind in ignore_list:\n",
    "    record.loc[ind, 'filename'] = 'ignore'"
   ]
  },
  {
   "cell_type": "code",
   "execution_count": null,
   "metadata": {},
   "outputs": [],
   "source": [
    "### save file\n",
    "record.to_csv(score_list[1]+'_record.csv')"
   ]
  },
  {
   "cell_type": "markdown",
   "metadata": {},
   "source": [
    "Calculate average scores from `record`"
   ]
  },
  {
   "cell_type": "code",
   "execution_count": null,
   "metadata": {},
   "outputs": [],
   "source": [
    "scores = an.get_scores(record, quiz_name)"
   ]
  },
  {
   "cell_type": "code",
   "execution_count": null,
   "metadata": {
    "scrolled": false
   },
   "outputs": [],
   "source": [
    "print(scores.shape)\n",
    "scores.head(None)"
   ]
  },
  {
   "cell_type": "markdown",
   "metadata": {},
   "source": [
    "Update scores on Google Drive.  \n",
    "Announce on Cyber University.  \n",
    "Put `_record` and `_scores` in the course folder `quiz-records`."
   ]
  },
  {
   "cell_type": "markdown",
   "metadata": {},
   "source": [
    "# 匯入資料庫"
   ]
  },
  {
   "cell_type": "markdown",
   "metadata": {},
   "source": [
    "### Merge"
   ]
  },
  {
   "cell_type": "code",
   "execution_count": null,
   "metadata": {},
   "outputs": [],
   "source": [
    "raw.merge_to()"
   ]
  },
  {
   "cell_type": "code",
   "execution_count": null,
   "metadata": {},
   "outputs": [],
   "source": [
    "nsysu = ex.raw_data('nsysu-digits')\n",
    "print(nsysu.num)"
   ]
  }
 ],
 "metadata": {
  "kernelspec": {
   "display_name": "Python 3 (ipykernel)",
   "language": "python",
   "name": "python3"
  },
  "language_info": {
   "codemirror_mode": {
    "name": "ipython",
    "version": 3
   },
   "file_extension": ".py",
   "mimetype": "text/x-python",
   "name": "python",
   "nbconvert_exporter": "python",
   "pygments_lexer": "ipython3",
   "version": "3.9.7"
  }
 },
 "nbformat": 4,
 "nbformat_minor": 4
}
